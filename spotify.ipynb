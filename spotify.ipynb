{
 "cells": [
  {
   "cell_type": "markdown",
   "metadata": {
    "slideshow": {
     "slide_type": "slide"
    },
    "tags": []
   },
   "source": [
    "## 🎹 Spotify popularity analysis\n",
    "---\n",
    "\n",
    "The goal of this study is to determine specific criterias that a song's popularity depends on. We are going to answer the following questions :\n",
    "- ⏳ Which duration should be prioritized to be popular in **pop** music ?\n",
    "- 🥁 Which tempo should be prioritized to be popular in **pop** music ?\n",
    "- 🗨️ Which words should be prioritized to be popular in **pop** music ?\n",
    "\n",
    "In order to do this, we will use the following [dataset](https://www.kaggle.com/datasets/conorvaneden/best-songs-on-spotify-for-every-year-2000-2023?select=Best+Songs+on+Spotify+from+2000-2023.csv) available on Kaggle."
   ]
  },
  {
   "cell_type": "markdown",
   "metadata": {
    "slideshow": {
     "slide_type": "skip"
    }
   },
   "source": [
    "Let's first import all the packages that we will need for this study."
   ]
  },
  {
   "cell_type": "code",
   "execution_count": 2,
   "metadata": {
    "slideshow": {
     "slide_type": "skip"
    }
   },
   "outputs": [],
   "source": [
    "import matplotlib.pyplot as plt\n",
    "import matplotlib.ticker as ticker\n",
    "import numpy as np\n",
    "import pandas as pd\n",
    "import seaborn as sns\n",
    "\n",
    "import warnings\n",
    "\n",
    "%matplotlib inline\n",
    "warnings.filterwarnings(\"ignore\", category=FutureWarning)"
   ]
  },
  {
   "cell_type": "markdown",
   "metadata": {
    "slideshow": {
     "slide_type": "slide"
    }
   },
   "source": [
    "## 🗺️ 1. Dataset exploration\n",
    "---\n",
    "\n",
    "Let's start by loading and exploring the dataset in order to identify the data that will help us in this study."
   ]
  },
  {
   "cell_type": "markdown",
   "metadata": {
    "slideshow": {
     "slide_type": "subslide"
    }
   },
   "source": [
    "Here's what our data looks like. It seems obvious that the column we are going to focus on is the `popularity` column."
   ]
  },
  {
   "cell_type": "code",
   "execution_count": 3,
   "metadata": {
    "hide_input": true,
    "slideshow": {
     "slide_type": "fragment"
    }
   },
   "outputs": [
    {
     "data": {
      "text/html": [
       "<div>\n",
       "<style scoped>\n",
       "    .dataframe tbody tr th:only-of-type {\n",
       "        vertical-align: middle;\n",
       "    }\n",
       "\n",
       "    .dataframe tbody tr th {\n",
       "        vertical-align: top;\n",
       "    }\n",
       "\n",
       "    .dataframe thead th {\n",
       "        text-align: right;\n",
       "    }\n",
       "</style>\n",
       "<table border=\"1\" class=\"dataframe\">\n",
       "  <thead>\n",
       "    <tr style=\"text-align: right;\">\n",
       "      <th></th>\n",
       "      <th>title</th>\n",
       "      <th>artist</th>\n",
       "      <th>top genre</th>\n",
       "      <th>year</th>\n",
       "      <th>bpm</th>\n",
       "      <th>energy</th>\n",
       "      <th>danceability</th>\n",
       "      <th>dB</th>\n",
       "      <th>liveness</th>\n",
       "      <th>valence</th>\n",
       "      <th>duration</th>\n",
       "      <th>acousticness</th>\n",
       "      <th>speechiness</th>\n",
       "      <th>popularity</th>\n",
       "    </tr>\n",
       "  </thead>\n",
       "  <tbody>\n",
       "    <tr>\n",
       "      <th>0</th>\n",
       "      <td>Flowers</td>\n",
       "      <td>Miley Cyrus</td>\n",
       "      <td>pop</td>\n",
       "      <td>2023</td>\n",
       "      <td>118</td>\n",
       "      <td>68</td>\n",
       "      <td>71</td>\n",
       "      <td>-4</td>\n",
       "      <td>3</td>\n",
       "      <td>65</td>\n",
       "      <td>200</td>\n",
       "      <td>6</td>\n",
       "      <td>7</td>\n",
       "      <td>98</td>\n",
       "    </tr>\n",
       "    <tr>\n",
       "      <th>1</th>\n",
       "      <td>Cupid - Twin Ver.</td>\n",
       "      <td>FIFTY FIFTY</td>\n",
       "      <td>k-pop girl group</td>\n",
       "      <td>2023</td>\n",
       "      <td>120</td>\n",
       "      <td>59</td>\n",
       "      <td>78</td>\n",
       "      <td>-8</td>\n",
       "      <td>35</td>\n",
       "      <td>73</td>\n",
       "      <td>174</td>\n",
       "      <td>44</td>\n",
       "      <td>3</td>\n",
       "      <td>97</td>\n",
       "    </tr>\n",
       "    <tr>\n",
       "      <th>2</th>\n",
       "      <td>BESO</td>\n",
       "      <td>ROSALÍA</td>\n",
       "      <td>pop</td>\n",
       "      <td>2023</td>\n",
       "      <td>95</td>\n",
       "      <td>64</td>\n",
       "      <td>77</td>\n",
       "      <td>-7</td>\n",
       "      <td>17</td>\n",
       "      <td>53</td>\n",
       "      <td>195</td>\n",
       "      <td>74</td>\n",
       "      <td>14</td>\n",
       "      <td>96</td>\n",
       "    </tr>\n",
       "  </tbody>\n",
       "</table>\n",
       "</div>"
      ],
      "text/plain": [
       "               title       artist         top genre  year  bpm  energy  \\\n",
       "0            Flowers  Miley Cyrus               pop  2023  118      68   \n",
       "1  Cupid - Twin Ver.  FIFTY FIFTY  k-pop girl group  2023  120      59   \n",
       "2               BESO      ROSALÍA               pop  2023   95      64   \n",
       "\n",
       "   danceability   dB  liveness  valence  duration  acousticness  speechiness   \\\n",
       "0             71  -4         3       65       200             6             7   \n",
       "1             78  -8        35       73       174            44             3   \n",
       "2             77  -7        17       53       195            74            14   \n",
       "\n",
       "   popularity  \n",
       "0          98  \n",
       "1          97  \n",
       "2          96  "
      ]
     },
     "execution_count": 3,
     "metadata": {},
     "output_type": "execute_result"
    }
   ],
   "source": [
    "# Load the dataset from the previously downloaded file\n",
    "df = pd.read_csv(\"./data/Best Songs on Spotify from 2000-2023.csv\", delimiter=\";\")\n",
    "\n",
    "# Show the first rows to have an idea of what the data looks like\n",
    "df.head(3)"
   ]
  },
  {
   "cell_type": "markdown",
   "metadata": {
    "slideshow": {
     "slide_type": "skip"
    }
   },
   "source": [
    "### ⚠️ 1.0.1 Data cleaning\n",
    "Before going any further, we should check if there are any empty or NaN values in our DataFrame."
   ]
  },
  {
   "cell_type": "code",
   "execution_count": 4,
   "metadata": {
    "slideshow": {
     "slide_type": "skip"
    }
   },
   "outputs": [
    {
     "data": {
      "text/html": [
       "<div>\n",
       "<style scoped>\n",
       "    .dataframe tbody tr th:only-of-type {\n",
       "        vertical-align: middle;\n",
       "    }\n",
       "\n",
       "    .dataframe tbody tr th {\n",
       "        vertical-align: top;\n",
       "    }\n",
       "\n",
       "    .dataframe thead th {\n",
       "        text-align: right;\n",
       "    }\n",
       "</style>\n",
       "<table border=\"1\" class=\"dataframe\">\n",
       "  <thead>\n",
       "    <tr style=\"text-align: right;\">\n",
       "      <th></th>\n",
       "      <th>title</th>\n",
       "      <th>artist</th>\n",
       "      <th>top genre</th>\n",
       "      <th>year</th>\n",
       "      <th>bpm</th>\n",
       "      <th>energy</th>\n",
       "      <th>danceability</th>\n",
       "      <th>dB</th>\n",
       "      <th>liveness</th>\n",
       "      <th>valence</th>\n",
       "      <th>duration</th>\n",
       "      <th>acousticness</th>\n",
       "      <th>speechiness</th>\n",
       "      <th>popularity</th>\n",
       "    </tr>\n",
       "  </thead>\n",
       "  <tbody>\n",
       "  </tbody>\n",
       "</table>\n",
       "</div>"
      ],
      "text/plain": [
       "Empty DataFrame\n",
       "Columns: [title, artist, top genre, year, bpm, energy, danceability , dB, liveness, valence, duration, acousticness, speechiness , popularity]\n",
       "Index: []"
      ]
     },
     "execution_count": 4,
     "metadata": {},
     "output_type": "execute_result"
    }
   ],
   "source": [
    "df[df.isna().any(axis=1)]"
   ]
  },
  {
   "cell_type": "code",
   "execution_count": 5,
   "metadata": {
    "slideshow": {
     "slide_type": "skip"
    }
   },
   "outputs": [
    {
     "data": {
      "text/html": [
       "<div>\n",
       "<style scoped>\n",
       "    .dataframe tbody tr th:only-of-type {\n",
       "        vertical-align: middle;\n",
       "    }\n",
       "\n",
       "    .dataframe tbody tr th {\n",
       "        vertical-align: top;\n",
       "    }\n",
       "\n",
       "    .dataframe thead th {\n",
       "        text-align: right;\n",
       "    }\n",
       "</style>\n",
       "<table border=\"1\" class=\"dataframe\">\n",
       "  <thead>\n",
       "    <tr style=\"text-align: right;\">\n",
       "      <th></th>\n",
       "      <th>title</th>\n",
       "      <th>artist</th>\n",
       "      <th>top genre</th>\n",
       "      <th>year</th>\n",
       "      <th>bpm</th>\n",
       "      <th>energy</th>\n",
       "      <th>danceability</th>\n",
       "      <th>dB</th>\n",
       "      <th>liveness</th>\n",
       "      <th>valence</th>\n",
       "      <th>duration</th>\n",
       "      <th>acousticness</th>\n",
       "      <th>speechiness</th>\n",
       "      <th>popularity</th>\n",
       "    </tr>\n",
       "  </thead>\n",
       "  <tbody>\n",
       "  </tbody>\n",
       "</table>\n",
       "</div>"
      ],
      "text/plain": [
       "Empty DataFrame\n",
       "Columns: [title, artist, top genre, year, bpm, energy, danceability , dB, liveness, valence, duration, acousticness, speechiness , popularity]\n",
       "Index: []"
      ]
     },
     "execution_count": 5,
     "metadata": {},
     "output_type": "execute_result"
    }
   ],
   "source": [
    "df[df.isnull().any(axis=1)]"
   ]
  },
  {
   "cell_type": "markdown",
   "metadata": {
    "slideshow": {
     "slide_type": "skip"
    }
   },
   "source": [
    "We should create a new column in our DataFrame that will create popularity groups and help for visualization purposes. For this, we are going to split our popularity column into 4 groups using quartiles."
   ]
  },
  {
   "cell_type": "code",
   "execution_count": 6,
   "metadata": {},
   "outputs": [
    {
     "data": {
      "text/html": [
       "<div>\n",
       "<style scoped>\n",
       "    .dataframe tbody tr th:only-of-type {\n",
       "        vertical-align: middle;\n",
       "    }\n",
       "\n",
       "    .dataframe tbody tr th {\n",
       "        vertical-align: top;\n",
       "    }\n",
       "\n",
       "    .dataframe thead th {\n",
       "        text-align: right;\n",
       "    }\n",
       "</style>\n",
       "<table border=\"1\" class=\"dataframe\">\n",
       "  <thead>\n",
       "    <tr style=\"text-align: right;\">\n",
       "      <th></th>\n",
       "      <th>title</th>\n",
       "      <th>artist</th>\n",
       "      <th>top genre</th>\n",
       "      <th>year</th>\n",
       "      <th>bpm</th>\n",
       "      <th>energy</th>\n",
       "      <th>danceability</th>\n",
       "      <th>dB</th>\n",
       "      <th>liveness</th>\n",
       "      <th>valence</th>\n",
       "      <th>duration</th>\n",
       "      <th>acousticness</th>\n",
       "      <th>speechiness</th>\n",
       "      <th>popularity</th>\n",
       "      <th>popularity_cat</th>\n",
       "    </tr>\n",
       "  </thead>\n",
       "  <tbody>\n",
       "    <tr>\n",
       "      <th>0</th>\n",
       "      <td>Flowers</td>\n",
       "      <td>Miley Cyrus</td>\n",
       "      <td>pop</td>\n",
       "      <td>2023</td>\n",
       "      <td>118</td>\n",
       "      <td>68</td>\n",
       "      <td>71</td>\n",
       "      <td>-4</td>\n",
       "      <td>3</td>\n",
       "      <td>65</td>\n",
       "      <td>200</td>\n",
       "      <td>6</td>\n",
       "      <td>7</td>\n",
       "      <td>98</td>\n",
       "      <td>Super High</td>\n",
       "    </tr>\n",
       "    <tr>\n",
       "      <th>1</th>\n",
       "      <td>Cupid - Twin Ver.</td>\n",
       "      <td>FIFTY FIFTY</td>\n",
       "      <td>k-pop girl group</td>\n",
       "      <td>2023</td>\n",
       "      <td>120</td>\n",
       "      <td>59</td>\n",
       "      <td>78</td>\n",
       "      <td>-8</td>\n",
       "      <td>35</td>\n",
       "      <td>73</td>\n",
       "      <td>174</td>\n",
       "      <td>44</td>\n",
       "      <td>3</td>\n",
       "      <td>97</td>\n",
       "      <td>Super High</td>\n",
       "    </tr>\n",
       "    <tr>\n",
       "      <th>2</th>\n",
       "      <td>BESO</td>\n",
       "      <td>ROSALÍA</td>\n",
       "      <td>pop</td>\n",
       "      <td>2023</td>\n",
       "      <td>95</td>\n",
       "      <td>64</td>\n",
       "      <td>77</td>\n",
       "      <td>-7</td>\n",
       "      <td>17</td>\n",
       "      <td>53</td>\n",
       "      <td>195</td>\n",
       "      <td>74</td>\n",
       "      <td>14</td>\n",
       "      <td>96</td>\n",
       "      <td>Super High</td>\n",
       "    </tr>\n",
       "  </tbody>\n",
       "</table>\n",
       "</div>"
      ],
      "text/plain": [
       "               title       artist         top genre  year  bpm  energy  \\\n",
       "0            Flowers  Miley Cyrus               pop  2023  118      68   \n",
       "1  Cupid - Twin Ver.  FIFTY FIFTY  k-pop girl group  2023  120      59   \n",
       "2               BESO      ROSALÍA               pop  2023   95      64   \n",
       "\n",
       "   danceability   dB  liveness  valence  duration  acousticness  speechiness   \\\n",
       "0             71  -4         3       65       200             6             7   \n",
       "1             78  -8        35       73       174            44             3   \n",
       "2             77  -7        17       53       195            74            14   \n",
       "\n",
       "   popularity popularity_cat  \n",
       "0          98     Super High  \n",
       "1          97     Super High  \n",
       "2          96     Super High  "
      ]
     },
     "execution_count": 6,
     "metadata": {},
     "output_type": "execute_result"
    }
   ],
   "source": [
    "df[\"popularity_cat\"] = pd.qcut(df[\"popularity\"], q=4, labels=[\"Low\", \"Medium\", \"High\", \"Super High\"])\n",
    "df.head(3)"
   ]
  },
  {
   "cell_type": "markdown",
   "metadata": {
    "slideshow": {
     "slide_type": "subslide"
    }
   },
   "source": [
    "### ↪️ 1.1 Pop songs extraction"
   ]
  },
  {
   "cell_type": "markdown",
   "metadata": {},
   "source": [
    "As you may have noticed, there are multiple genres but the only one that interests us is \"pop\". We should create a new DataFrame called `pop_df` that will contain only pop songs that we will use in the next steps.\n",
    "\n",
    "👉 Our new DataFrame looks like this :"
   ]
  },
  {
   "cell_type": "code",
   "execution_count": 7,
   "metadata": {
    "slideshow": {
     "hide_input": true,
     "slide_type": "fragment"
    }
   },
   "outputs": [
    {
     "data": {
      "text/html": [
       "<div>\n",
       "<style scoped>\n",
       "    .dataframe tbody tr th:only-of-type {\n",
       "        vertical-align: middle;\n",
       "    }\n",
       "\n",
       "    .dataframe tbody tr th {\n",
       "        vertical-align: top;\n",
       "    }\n",
       "\n",
       "    .dataframe thead th {\n",
       "        text-align: right;\n",
       "    }\n",
       "</style>\n",
       "<table border=\"1\" class=\"dataframe\">\n",
       "  <thead>\n",
       "    <tr style=\"text-align: right;\">\n",
       "      <th></th>\n",
       "      <th>title</th>\n",
       "      <th>artist</th>\n",
       "      <th>top genre</th>\n",
       "      <th>year</th>\n",
       "      <th>bpm</th>\n",
       "      <th>energy</th>\n",
       "      <th>danceability</th>\n",
       "      <th>dB</th>\n",
       "      <th>liveness</th>\n",
       "      <th>valence</th>\n",
       "      <th>duration</th>\n",
       "      <th>acousticness</th>\n",
       "      <th>speechiness</th>\n",
       "      <th>popularity</th>\n",
       "      <th>popularity_cat</th>\n",
       "    </tr>\n",
       "  </thead>\n",
       "  <tbody>\n",
       "    <tr>\n",
       "      <th>0</th>\n",
       "      <td>Flowers</td>\n",
       "      <td>Miley Cyrus</td>\n",
       "      <td>pop</td>\n",
       "      <td>2023</td>\n",
       "      <td>118</td>\n",
       "      <td>68</td>\n",
       "      <td>71</td>\n",
       "      <td>-4</td>\n",
       "      <td>3</td>\n",
       "      <td>65</td>\n",
       "      <td>200</td>\n",
       "      <td>6</td>\n",
       "      <td>7</td>\n",
       "      <td>98</td>\n",
       "      <td>Super High</td>\n",
       "    </tr>\n",
       "    <tr>\n",
       "      <th>2</th>\n",
       "      <td>BESO</td>\n",
       "      <td>ROSALÍA</td>\n",
       "      <td>pop</td>\n",
       "      <td>2023</td>\n",
       "      <td>95</td>\n",
       "      <td>64</td>\n",
       "      <td>77</td>\n",
       "      <td>-7</td>\n",
       "      <td>17</td>\n",
       "      <td>53</td>\n",
       "      <td>195</td>\n",
       "      <td>74</td>\n",
       "      <td>14</td>\n",
       "      <td>96</td>\n",
       "      <td>Super High</td>\n",
       "    </tr>\n",
       "    <tr>\n",
       "      <th>8</th>\n",
       "      <td>Anti-Hero</td>\n",
       "      <td>Taylor Swift</td>\n",
       "      <td>pop</td>\n",
       "      <td>2022</td>\n",
       "      <td>97</td>\n",
       "      <td>64</td>\n",
       "      <td>64</td>\n",
       "      <td>-7</td>\n",
       "      <td>14</td>\n",
       "      <td>53</td>\n",
       "      <td>201</td>\n",
       "      <td>13</td>\n",
       "      <td>5</td>\n",
       "      <td>94</td>\n",
       "      <td>Super High</td>\n",
       "    </tr>\n",
       "  </tbody>\n",
       "</table>\n",
       "</div>"
      ],
      "text/plain": [
       "       title        artist top genre  year  bpm  energy  danceability   dB  \\\n",
       "0    Flowers   Miley Cyrus       pop  2023  118      68             71  -4   \n",
       "2       BESO       ROSALÍA       pop  2023   95      64             77  -7   \n",
       "8  Anti-Hero  Taylor Swift       pop  2022   97      64             64  -7   \n",
       "\n",
       "   liveness  valence  duration  acousticness  speechiness   popularity  \\\n",
       "0         3       65       200             6             7          98   \n",
       "2        17       53       195            74            14          96   \n",
       "8        14       53       201            13             5          94   \n",
       "\n",
       "  popularity_cat  \n",
       "0     Super High  \n",
       "2     Super High  \n",
       "8     Super High  "
      ]
     },
     "execution_count": 7,
     "metadata": {},
     "output_type": "execute_result"
    }
   ],
   "source": [
    "# Use boolean indexing to filter our main DataFrame\n",
    "pop_df = df[df[\"top genre\"] == \"pop\"]\n",
    "\n",
    "# Show the first rows of our brand new data\n",
    "pop_df.head(3)"
   ]
  },
  {
   "cell_type": "markdown",
   "metadata": {
    "slideshow": {
     "slide_type": "slide"
    }
   },
   "source": [
    "## ⏳ 2. Which duration should be prioritized ?\n",
    "---\n",
    "\n",
    "We are going to use a scatter plot in order to figure out which duration is to be prioritized for pop music."
   ]
  },
  {
   "cell_type": "code",
   "execution_count": 8,
   "metadata": {
    "hide_input": true,
    "slideshow": {
     "slide_type": "subslide"
    }
   },
   "outputs": [
    {
     "data": {
      "image/png": "[encoded data removed]",
      "text/plain": [
       "<Figure size 640x480 with 1 Axes>"
      ]
     },
     "metadata": {},
     "output_type": "display_data"
    }
   ],
   "source": [
    "sns.scatterplot(data=pop_df, x=\"duration\", y=\"popularity\", hue=\"popularity_cat\", palette=\"PuRd\")\n",
    "ax = plt.gca()\n",
    "\n",
    "ax.set_xticks(range(0, max(df['duration']) + 1, 60))\n",
    "ax.xaxis.set_major_formatter(ticker.FuncFormatter(lambda x, _: int(x / 60)))\n",
    "plt.title(\"Popularity of pop songs depending on their duration\")\n",
    "plt.xlabel(\"duration (min)\")\n",
    "plt.show()"
   ]
  },
  {
   "cell_type": "markdown",
   "metadata": {
    "slideshow": {
     "slide_type": "fragment"
    }
   },
   "source": [
    "💡 It looks like the duration to be prioritized in order to make a popular pop song is around **3 minutes**."
   ]
  },
  {
   "cell_type": "markdown",
   "metadata": {
    "slideshow": {
     "slide_type": "slide"
    }
   },
   "source": [
    "## 🥁 3. Which tempo should be prioritized ?\n",
    "---\n",
    "\n",
    "Here we are going to compare the popularity of pop songs with their tempo in order to find a correlation between those data."
   ]
  },
  {
   "cell_type": "code",
   "execution_count": 10,
   "metadata": {
    "slideshow": {
     "slide_type": "subslide"
    }
   },
   "outputs": [
    {
     "data": {
      "image/png": "[encoded data removed]",
      "text/plain": [
       "<Figure size 640x480 with 1 Axes>"
      ]
     },
     "metadata": {},
     "output_type": "display_data"
    }
   ],
   "source": [
    "popular_df = df[df[\"popularity_cat\"] == \"Super High\"]\n",
    "\n",
    "sns.histplot(data=popular_df, x=\"bpm\", stat=\"frequency\", bins=30)\n",
    "\n",
    "plt.title(\"Bpm distribution for songs with super high popularity\")\n",
    "plt.show()"
   ]
  },
  {
   "cell_type": "markdown",
   "metadata": {},
   "source": [
    "💡 It looks like the popular pop songs have a tempo between 90 and 130 bpm, even though the tempo that is the most present in popular songs is around 120 bpm."
   ]
  },
  {
   "cell_type": "markdown",
   "metadata": {},
   "source": [
    "## 4. 🗨️ Which words should be prioritized ?\n",
    "---\n",
    "\n",
    "In order to figure out which words the most popular songs are made of, we are going to need to fetch the song lyrics from the spotify API using `spotipy`."
   ]
  },
  {
   "cell_type": "code",
   "execution_count": 20,
   "metadata": {},
   "outputs": [
    {
     "name": "stdout",
     "output_type": "stream",
     "text": [
      "<built-in method keys of dict object at 0x7188dbbf1b00>\n"
     ]
    }
   ],
   "source": [
    "import spotipy\n",
    "\n",
    "from dotenv import load_dotenv\n",
    "from spotipy.oauth2 import SpotifyClientCredentials\n",
    "\n",
    "load_dotenv()\n",
    "\n",
    "song = pop_df.iloc[1]\n",
    "spotify = spotipy.Spotify(client_credentials_manager=SpotifyClientCredentials())\n",
    "result = spotify.search(q=f\"track:{song['title']}, artist:{song['artist']}\", type=\"track\", limit=1)"
   ]
  },
  {
   "cell_type": "code",
   "execution_count": 22,
   "metadata": {},
   "outputs": [
    {
     "ename": "AttributeError",
     "evalue": "'list' object has no attribute 'keys'",
     "output_type": "error",
     "traceback": [
      "\u001b[0;31m---------------------------------------------------------------------------\u001b[0m",
      "\u001b[0;31mAttributeError\u001b[0m                            Traceback (most recent call last)",
      "Cell \u001b[0;32mIn[22], line 1\u001b[0m\n\u001b[0;32m----> 1\u001b[0m \u001b[38;5;28mprint\u001b[39m(\u001b[43mresult\u001b[49m\u001b[43m[\u001b[49m\u001b[38;5;124;43m\"\u001b[39;49m\u001b[38;5;124;43mtracks\u001b[39;49m\u001b[38;5;124;43m\"\u001b[39;49m\u001b[43m]\u001b[49m\u001b[43m[\u001b[49m\u001b[38;5;124;43m\"\u001b[39;49m\u001b[38;5;124;43mitems\u001b[39;49m\u001b[38;5;124;43m\"\u001b[39;49m\u001b[43m]\u001b[49m\u001b[38;5;241;43m.\u001b[39;49m\u001b[43mkeys\u001b[49m())\n",
      "\u001b[0;31mAttributeError\u001b[0m: 'list' object has no attribute 'keys'"
     ]
    }
   ],
   "source": [
    "print(result[\"tracks\"][\"items\"][0])"
   ]
  }
 ],
 "metadata": {
  "kernelspec": {
   "display_name": "datamining",
   "language": "python",
   "name": "python3"
  },
  "language_info": {
   "codemirror_mode": {
    "name": "ipython",
    "version": 3
   },
   "file_extension": ".py",
   "mimetype": "text/x-python",
   "name": "python",
   "nbconvert_exporter": "python",
   "pygments_lexer": "ipython3",
   "version": "3.12.1"
  }
 },
 "nbformat": 4,
 "nbformat_minor": 2
}
